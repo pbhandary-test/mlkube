{
 "cells": [
  {
   "cell_type": "code",
   "execution_count": 1,
   "metadata": {},
   "outputs": [],
   "source": [
    "import os\n",
    "\n",
    "\n",
    "if os.getcwd().split(\"/\")[-1] != \"mlkube\":\n",
    "    os.chdir(\"..\")\n",
    "    os.getcwd()"
   ]
  },
  {
   "cell_type": "code",
   "execution_count": 2,
   "metadata": {},
   "outputs": [
    {
     "data": {
      "text/plain": [
       "'/home/pbhandary/mlkube_folder/mlkube'"
      ]
     },
     "execution_count": 2,
     "metadata": {},
     "output_type": "execute_result"
    }
   ],
   "source": [
    "os.getcwd()"
   ]
  },
  {
   "cell_type": "code",
   "execution_count": null,
   "metadata": {},
   "outputs": [],
   "source": [
    "from keras.models import Model\n",
    "from keras.layers import Input, Conv2D, MaxPooling2D, Flatten, Dense, concatenate\n",
    "from keras.optimizers import Adam\n",
    "from keras.preprocessing.image import ImageDataGenerator\n",
    "from keras.utils import to_categorical\n",
    "\n",
    "# Define the paths to your image directories\n",
    "data_dir = \"path/to/your/data/directory\"\n",
    "BR_dir = data_dir + \"/BR\"\n",
    "DA_dir = data_dir + \"/DA\"\n",
    "HF_dir = data_dir + \"/HF\"\n",
    "RO_dir = data_dir + \"/RO\"\n",
    "SP_dir = data_dir + \"/SP\"\n",
    "VF_dir = data_dir + \"/VF\"\n",
    "n_dir = data_dir + \"/n\"\n",
    "\n",
    "# Define image dimensions and batch size\n",
    "img_height, img_width = 64, 64\n",
    "batch_size = 32\n",
    "\n",
    "# Create ImageDataGenerator for each input set\n",
    "BR_datagen = ImageDataGenerator(rescale=1.0/255)\n",
    "DA_datagen = ImageDataGenerator(rescale=1.0/255)\n",
    "HF_datagen = ImageDataGenerator(rescale=1.0/255)\n",
    "RO_datagen = ImageDataGenerator(rescale=1.0/255)\n",
    "SP_datagen = ImageDataGenerator(rescale=1.0/255)\n",
    "VF_datagen = ImageDataGenerator(rescale=1.0/255)\n",
    "n_datagen = ImageDataGenerator(rescale=1.0/255)\n",
    "\n",
    "# Load images from directories using flow_from_directory\n",
    "BR_generator = BR_datagen.flow_from_directory(BR_dir, target_size=(img_height, img_width), batch_size=batch_size)\n",
    "DA_generator = DA_datagen.flow_from_directory(DA_dir, target_size=(img_height, img_width), batch_size=batch_size)\n",
    "HF_generator = HF_datagen.flow_from_directory(HF_dir, target_size=(img_height, img_width), batch_size=batch_size)\n",
    "RO_generator = RO_datagen.flow_from_directory(RO_dir, target_size=(img_height, img_width), batch_size=batch_size)\n",
    "SP_generator = SP_datagen.flow_from_directory(SP_dir, target_size=(img_height, img_width), batch_size=batch_size)\n",
    "VF_generator = VF_datagen.flow_from_directory(VF_dir, target_size=(img_height, img_width), batch_size=batch_size)\n",
    "n_generator = n_datagen.flow_from_directory(n_dir, target_size=(img_height, img_width), batch_size=batch_size)\n",
    "\n",
    "# Combine the generators into a single generator using zip\n",
    "combined_generator = zip(BR_generator, DA_generator, HF_generator, RO_generator, SP_generator, VF_generator, n_generator)\n",
    "\n",
    "# Calculate the number of steps per epoch based on the batch size and the number of images\n",
    "num_samples = len(BR_generator.filenames)  # Assuming all generators have the same number of samples\n",
    "steps_per_epoch = num_samples // batch_size\n",
    "\n",
    "# Define the number of classes\n",
    "num_classes = 4\n",
    "\n",
    "# Define the CNN model architecture\n",
    "def build_model():\n",
    "    # ... Same architecture as before ...\n",
    "\n",
    "# Build the model\n",
    "model = build_model()\n",
    "\n",
    "# Compile the model\n",
    "model.compile(optimizer=Adam(learning_rate=0.001),\n",
    "              loss={'normal': 'categorical_crossentropy', 'glioma': 'categorical_crossentropy',\n",
    "                    'meningioma': 'categorical_crossentropy', 'pituitary': 'categorical_crossentropy'},\n",
    "              metrics={'normal': 'accuracy', 'glioma': 'accuracy', 'meningioma': 'accuracy', 'pituitary': 'accuracy'})\n",
    "\n",
    "# Train the model\n",
    "model.fit(combined_generator, steps_per_epoch=steps_per_epoch, epochs=10)\n"
   ]
  },
  {
   "cell_type": "code",
   "execution_count": null,
   "metadata": {},
   "outputs": [],
   "source": []
  },
  {
   "cell_type": "code",
   "execution_count": null,
   "metadata": {},
   "outputs": [],
   "source": []
  }
 ],
 "metadata": {
  "kernelspec": {
   "display_name": "venv",
   "language": "python",
   "name": "python3"
  },
  "language_info": {
   "codemirror_mode": {
    "name": "ipython",
    "version": 3
   },
   "file_extension": ".py",
   "mimetype": "text/x-python",
   "name": "python",
   "nbconvert_exporter": "python",
   "pygments_lexer": "ipython3",
   "version": "3.9.2"
  },
  "orig_nbformat": 4
 },
 "nbformat": 4,
 "nbformat_minor": 2
}
